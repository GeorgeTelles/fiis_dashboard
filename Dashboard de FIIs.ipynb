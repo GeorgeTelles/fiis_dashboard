{
 "cells": [
  {
   "cell_type": "markdown",
   "metadata": {},
   "source": [
    "<img src=\"https://raw.githubusercontent.com/GeorgeTelles/georgetelles/f69531ec6b293b5148563588a764c010015d315e/logo_clara.png\" width=\"300\">\n",
    "<img src=\"https://raw.githubusercontent.com/GeorgeTelles/georgetelles/f69531ec6b293b5148563588a764c010015d315e/logo_dark.png\" width=\"300\">"
   ]
  },
  {
   "cell_type": "markdown",
   "metadata": {},
   "source": [
    "---"
   ]
  },
  {
   "cell_type": "markdown",
   "metadata": {},
   "source": [
    "# **Análise de Fundos Imobiliarios e criação de dashboard para tomada de decisão de investimento**"
   ]
  },
  {
   "cell_type": "markdown",
   "metadata": {},
   "source": [
    "Este projeto é uma ferramenta desenvolvida em Python para extrair, manipular e visualizar dados de fundos imobiliários cadastrados na Bolsa de Valores Brasileira (B3). O objetivo é fornecer uma análise detalhada das informações mais relevantes sobre esses fundos, ajudando investidores a tomar decisões mais informadas.\n",
    "\n",
    "## Funcionalidades\n",
    "\n",
    "### Extração de Dados\n",
    "- Coleta informações de todos os fundos imobiliários listados na B3, incluindo dados atualizados sobre:\n",
    "  - **Setor**\n",
    "  - **Liquidez Diária (R$)**\n",
    "  - **P/VP**\n",
    "  - **Dividend Yield**\n",
    "  - **Variação de Preço**\n",
    "  - **Patrimônio Líquido**\n",
    "  - **Número de Cotistas**\n",
    "\n",
    "### Manipulação de Dados\n",
    "- Processa e organiza os dados para facilitar a análise e a visualização.\n",
    "\n",
    "### Dashboard Interativo\n",
    "- Cria um painel visual com as seguintes métricas:\n",
    "  - **Setor**\n",
    "  - **Liquidez Diária (R$)**\n",
    "  - **P/VP**\n",
    "  - **Dividend Yield**\n",
    "  - **Variação de Preço**\n",
    "  - **Patrimônio Líquido**\n",
    "  - **Número de Cotistas**\n",
    "\n",
    "### Gráficos Dinâmicos\n",
    "- Inclui gráficos interativos que permitem filtrar e explorar os dados com base em:\n",
    "  - **Dividend Yield**\n",
    "  - **Liquidez Diária**\n",
    "  - **Número de Cotistas**\n"
   ]
  },
  {
   "cell_type": "code",
   "execution_count": null,
   "metadata": {
    "id": "iDtCmlkyYnVm"
   },
   "outputs": [],
   "source": [
    "import pandas as pd\n",
    "from io import StringIO\n",
    "\n",
    "from selenium import webdriver\n",
    "from selenium.webdriver.common.by import By\n",
    "from selenium.webdriver.support.ui import Select\n",
    "\n",
    "import matplotlib.pyplot as plt\n",
    "import vizro.plotly.express as px\n",
    "from vizro import Vizro\n",
    "import vizro.models as vm\n",
    "\n",
    "import yfinance as yf"
   ]
  },
  {
   "cell_type": "markdown",
   "metadata": {},
   "source": [
    "# **Iniciar o crawling**"
   ]
  },
  {
   "cell_type": "markdown",
   "metadata": {},
   "source": [
    "Vamos utilizar este site: https://www.fundsexplorer.com.br/ranking"
   ]
  },
  {
   "cell_type": "markdown",
   "metadata": {},
   "source": [
    "**Extração da tabela original**"
   ]
  },
  {
   "cell_type": "code",
   "execution_count": null,
   "metadata": {},
   "outputs": [],
   "source": [
    "driver = webdriver.Chrome()\n",
    "driver.get('https://www.fundsexplorer.com.br/ranking')\n",
    "driver.find_element(By.XPATH,'//*[@id=\"upTo--default-fiis-table\"]/div/table')\n",
    "tb_din = driver.find_element(By.XPATH,'//*[@id=\"upTo--default-fiis-table\"]/div/table').get_attribute('outerHTML')\n",
    "html_io = StringIO(tb_din)\n",
    "driver.quit()"
   ]
  },
  {
   "cell_type": "code",
   "execution_count": null,
   "metadata": {},
   "outputs": [],
   "source": [
    "fiis = pd.read_html(html_io, decimal = ',', thousands = '.')[0]\n",
    "fiis"
   ]
  },
  {
   "cell_type": "code",
   "execution_count": null,
   "metadata": {},
   "outputs": [],
   "source": [
    "print(f\"Total de {fiis.shape[0]} Fundos Imobiliarios\")"
   ]
  },
  {
   "cell_type": "markdown",
   "metadata": {},
   "source": [
    "**Manipulação dos dados**"
   ]
  },
  {
   "cell_type": "code",
   "execution_count": null,
   "metadata": {},
   "outputs": [],
   "source": [
    "fiis = fiis.replace({',':'.', '%':''}, regex = True)\n",
    "fiis[['Dividend Yield', 'Variação Preço']] = fiis[['Dividend Yield', 'Variação Preço']].apply(pd.to_numeric)\n",
    "fiis = fiis.set_index('Fundos')\n",
    "fiis.fillna(0, inplace = True)\n",
    "fiis['FII'] = fiis.index\n",
    "fiis['Setor'] = fiis['Setor'].astype(str)\n",
    "fiis = fiis[fiis['Num. Cotistas'] > 100]\n",
    "fiis"
   ]
  },
  {
   "cell_type": "markdown",
   "metadata": {},
   "source": [
    "# **Criação do Dashboard de FIIs**"
   ]
  },
  {
   "cell_type": "code",
   "execution_count": null,
   "metadata": {},
   "outputs": [],
   "source": [
    "page = vm.Page(\n",
    "    title = 'Dashboard de FIIs',\n",
    "    components = [\n",
    "        vm.Graph(id = 'scatter_dy', figure = px.scatter(fiis, x ='Num. Cotistas' , y ='Dividend Yield', color = 'Setor')),\n",
    "        vm.Graph(id = 'bar_pvp', figure = px.bar(fiis, x ='FII' , y ='P/VP', color = 'Setor')),\n",
    "        vm.Graph(id = 'bar_patliq', figure = px.bar(fiis, x ='FII' , y ='Patrimônio Líquido', color = 'Setor')),\n",
    "        \n",
    "        \n",
    "    ],\n",
    "    \n",
    "    controls = [\n",
    "        vm.Filter(column = 'Setor'),\n",
    "        vm.Filter(column = 'Liquidez Diária (R$)', selector = vm.RangeSlider()),\n",
    "        vm.Filter(column = 'Dividend Yield', selector = vm.RangeSlider()),\n",
    "        vm.Filter(column = 'Num. Cotistas', selector = vm.RangeSlider())\n",
    "        \n",
    "        \n",
    "    ]\n",
    "    \n",
    "\n",
    ")\n",
    "\n",
    "dashboard = vm.Dashboard(pages = [page])\n",
    "\n",
    "Vizro().build(dashboard).run()"
   ]
  }
 ],
 "metadata": {
  "colab": {
   "provenance": []
  },
  "kernelspec": {
   "display_name": "Python 3 (ipykernel)",
   "language": "python",
   "name": "python3"
  },
  "language_info": {
   "codemirror_mode": {
    "name": "ipython",
    "version": 3
   },
   "file_extension": ".py",
   "mimetype": "text/x-python",
   "name": "python",
   "nbconvert_exporter": "python",
   "pygments_lexer": "ipython3",
   "version": "3.12.4"
  }
 },
 "nbformat": 4,
 "nbformat_minor": 1
}
